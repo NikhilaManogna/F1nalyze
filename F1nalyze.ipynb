{
 "cells": [
  {
   "cell_type": "code",
   "execution_count": 1,
   "id": "e9dcb425",
   "metadata": {},
   "outputs": [],
   "source": [
    "import pandas as pd\n",
    "import numpy as np\n",
    "from sklearn.model_selection import train_test_split\n",
    "from sklearn.metrics import mean_squared_error\n",
    "import lightgbm as lgb"
   ]
  },
  {
   "cell_type": "code",
   "execution_count": 2,
   "id": "846b110c",
   "metadata": {},
   "outputs": [],
   "source": [
    "dtype_spec = {\n",
    "    'number': str,\n",
    "    'grid': 'float64',\n",
    "    'position_x': 'float64',\n",
    "    'positionOrder': 'float64',\n",
    "    'time_x': str,\n",
    "    'timetaken_in_millisec': 'float64',\n",
    "    'fastestLapTime': str,\n",
    "    'max_speed': 'float64',\n",
    "    'url_x': str,\n",
    "    'url_y': str,\n",
    "    'url': str,\n",
    "}"
   ]
  },
  {
   "cell_type": "code",
   "execution_count": 3,
   "id": "ad022711",
   "metadata": {},
   "outputs": [],
   "source": [
    "na_values = ['\\\\N', 'null', 'None', '']"
   ]
  },
  {
   "cell_type": "code",
   "execution_count": 4,
   "id": "16d276c1",
   "metadata": {},
   "outputs": [],
   "source": [
    "train_df = pd.read_csv('train.csv', dtype=dtype_spec, na_values=na_values, low_memory=False)\n",
    "test_df = pd.read_csv('test.csv', dtype=dtype_spec, na_values=na_values, low_memory=False)"
   ]
  },
  {
   "cell_type": "code",
   "execution_count": 5,
   "id": "ecd3b7ee",
   "metadata": {},
   "outputs": [],
   "source": [
    "def time_to_seconds(time_str):\n",
    "    if pd.isna(time_str):\n",
    "        return np.nan\n",
    "    parts = time_str.split(':')\n",
    "    if len(parts) == 3:\n",
    "        return int(parts[0]) * 3600 + int(parts[1]) * 60 + float(parts[2])\n",
    "    elif len(parts) == 2:\n",
    "        return int(parts[0]) * 60 + float(parts[1])\n",
    "    else:\n",
    "        return float(parts[0])"
   ]
  },
  {
   "cell_type": "code",
   "execution_count": 6,
   "id": "56ab1440",
   "metadata": {},
   "outputs": [],
   "source": [
    "train_df['time_x'] = train_df['time_x'].apply(time_to_seconds)\n",
    "train_df['fastestLapTime'] = train_df['fastestLapTime'].apply(time_to_seconds)\n",
    "test_df['time_x'] = test_df['time_x'].apply(time_to_seconds)\n",
    "test_df['fastestLapTime'] = test_df['fastestLapTime'].apply(time_to_seconds)"
   ]
  },
  {
   "cell_type": "code",
   "execution_count": 7,
   "id": "4aeb9b1c",
   "metadata": {},
   "outputs": [],
   "source": [
    "train_df.fillna(method='ffill', inplace=True)\n",
    "test_df.fillna(method='ffill', inplace=True)"
   ]
  },
  {
   "cell_type": "code",
   "execution_count": 8,
   "id": "17ed7c04",
   "metadata": {},
   "outputs": [],
   "source": [
    "categorical_cols = ['driverRef', 'constructorRef', 'grand_prix', 'status']\n",
    "for col in categorical_cols:\n",
    "    train_df[col], _ = pd.factorize(train_df[col])\n",
    "    test_df[col] = pd.Categorical(test_df[col], categories=_).codes"
   ]
  },
  {
   "cell_type": "code",
   "execution_count": 9,
   "id": "06c32da0",
   "metadata": {},
   "outputs": [],
   "source": [
    "train_df['age'] = pd.to_datetime(train_df['date']).dt.year - pd.to_datetime(train_df['dob']).dt.year\n",
    "test_df['age'] = pd.to_datetime(test_df['date']).dt.year - pd.to_datetime(test_df['dob']).dt.year"
   ]
  },
  {
   "cell_type": "code",
   "execution_count": 10,
   "id": "556c1490",
   "metadata": {},
   "outputs": [],
   "source": [
    "features = [\n",
    "    'grid', 'points', 'laps', 'time_x', 'timetaken_in_millisec', \n",
    "    'fastestLap', 'rank', 'fastestLapTime', 'max_speed', 'age'\n",
    "] + categorical_cols"
   ]
  },
  {
   "cell_type": "code",
   "execution_count": 11,
   "id": "972d3b42",
   "metadata": {},
   "outputs": [],
   "source": [
    "X = train_df[features]\n",
    "y = train_df['position']"
   ]
  },
  {
   "cell_type": "code",
   "execution_count": 12,
   "id": "f4cabfc3",
   "metadata": {},
   "outputs": [],
   "source": [
    "X_train, X_valid, y_train, y_valid = train_test_split(X, y, test_size=0.2, random_state=42)"
   ]
  },
  {
   "cell_type": "code",
   "execution_count": 13,
   "id": "590f2574",
   "metadata": {},
   "outputs": [],
   "source": [
    "train_data = lgb.Dataset(X_train, label=y_train)\n",
    "valid_data = lgb.Dataset(X_valid, label=y_valid, reference=train_data)"
   ]
  },
  {
   "cell_type": "code",
   "execution_count": 14,
   "id": "524cabbc",
   "metadata": {},
   "outputs": [],
   "source": [
    "params = {\n",
    "    'objective': 'regression',\n",
    "    'metric': 'rmse',\n",
    "    'verbosity': -1,\n",
    "    'seed': 42,\n",
    "    'boosting_type': 'gbdt',\n",
    "    'learning_rate': 0.01,\n",
    "    'num_leaves': 31,\n",
    "    'feature_fraction': 0.9,\n",
    "    'bagging_fraction': 0.8,\n",
    "    'bagging_freq': 5\n",
    "}"
   ]
  },
  {
   "cell_type": "code",
   "execution_count": 15,
   "id": "c93c64a4",
   "metadata": {},
   "outputs": [],
   "source": [
    "from lightgbm import early_stopping"
   ]
  },
  {
   "cell_type": "code",
   "execution_count": 16,
   "id": "b7cee388",
   "metadata": {},
   "outputs": [
    {
     "name": "stderr",
     "output_type": "stream",
     "text": [
      "C:\\Users\\DELL\\anaconda3\\Lib\\site-packages\\sklearn\\model_selection\\_split.py:725: UserWarning: The least populated class in y has only 1 members, which is less than n_splits=5.\n",
      "  warnings.warn(\n"
     ]
    },
    {
     "name": "stdout",
     "output_type": "stream",
     "text": [
      "Training until validation scores don't improve for 100 rounds\n",
      "[100]\tcv_agg's valid rmse: 8.44286 + 0.00472558\n",
      "[200]\tcv_agg's valid rmse: 8.09301 + 0.0052032\n",
      "[300]\tcv_agg's valid rmse: 7.91895 + 0.00716199\n",
      "[400]\tcv_agg's valid rmse: 7.81046 + 0.00801938\n",
      "[500]\tcv_agg's valid rmse: 7.74085 + 0.00847994\n",
      "[600]\tcv_agg's valid rmse: 7.69578 + 0.0103916\n",
      "[700]\tcv_agg's valid rmse: 7.65948 + 0.0107798\n",
      "[800]\tcv_agg's valid rmse: 7.62912 + 0.00982691\n",
      "[900]\tcv_agg's valid rmse: 7.60236 + 0.0102815\n",
      "[1000]\tcv_agg's valid rmse: 7.57883 + 0.0106389\n",
      "Did not meet early stopping. Best iteration is:\n",
      "[1000]\tcv_agg's valid rmse: 7.57883 + 0.0106389\n"
     ]
    }
   ],
   "source": [
    "cv_results = lgb.cv(\n",
    "    params,\n",
    "    train_data,\n",
    "    num_boost_round=1000,\n",
    "    nfold=5,\n",
    "    metrics='rmse',\n",
    "    callbacks=[\n",
    "        early_stopping(stopping_rounds=100, verbose=True),\n",
    "        lgb.log_evaluation(period=100)\n",
    "    ],\n",
    "    seed=42\n",
    ")"
   ]
  },
  {
   "cell_type": "code",
   "execution_count": 17,
   "id": "1b257965",
   "metadata": {},
   "outputs": [
    {
     "name": "stdout",
     "output_type": "stream",
     "text": [
      "Best number of boosting rounds: 1000\n"
     ]
    }
   ],
   "source": [
    "if 'valid rmse-mean' in cv_results:\n",
    "    best_num_boost_round = len(cv_results['valid rmse-mean'])\n",
    "else:\n",
    "    best_num_boost_round = len(next(iter(cv_results.values())))\n",
    "\n",
    "print(f'Best number of boosting rounds: {best_num_boost_round}')"
   ]
  },
  {
   "cell_type": "code",
   "execution_count": 18,
   "id": "5b95f43c",
   "metadata": {},
   "outputs": [
    {
     "name": "stdout",
     "output_type": "stream",
     "text": [
      "[100]\tvalid_0's rmse: 8.44978\n",
      "[200]\tvalid_0's rmse: 8.09456\n",
      "[300]\tvalid_0's rmse: 7.92091\n",
      "[400]\tvalid_0's rmse: 7.8091\n",
      "[500]\tvalid_0's rmse: 7.73586\n",
      "[600]\tvalid_0's rmse: 7.68954\n",
      "[700]\tvalid_0's rmse: 7.65606\n",
      "[800]\tvalid_0's rmse: 7.62274\n",
      "[900]\tvalid_0's rmse: 7.59661\n",
      "[1000]\tvalid_0's rmse: 7.57112\n"
     ]
    }
   ],
   "source": [
    "final_model = lgb.train(\n",
    "    params,\n",
    "    train_data,\n",
    "    num_boost_round=best_num_boost_round,\n",
    "    valid_sets=[valid_data],\n",
    "    callbacks=[lgb.log_evaluation(period=100)]\n",
    ")"
   ]
  },
  {
   "cell_type": "code",
   "execution_count": 19,
   "id": "71470c85",
   "metadata": {},
   "outputs": [
    {
     "name": "stdout",
     "output_type": "stream",
     "text": [
      "Validation RMSE: 7.571120134222269\n"
     ]
    }
   ],
   "source": [
    "y_pred = final_model.predict(X_valid)\n",
    "rmse = mean_squared_error(y_valid, y_pred, squared=False)\n",
    "print(f'Validation RMSE: {rmse}')"
   ]
  },
  {
   "cell_type": "code",
   "execution_count": 20,
   "id": "e4f2124c",
   "metadata": {},
   "outputs": [],
   "source": [
    "X_test = test_df[features]\n",
    "test_predictions = final_model.predict(X_test)"
   ]
  },
  {
   "cell_type": "code",
   "execution_count": 24,
   "id": "72417994",
   "metadata": {},
   "outputs": [],
   "source": [
    "submission = pd.DataFrame({\n",
    "    'position': test_predictions,\n",
    "    'result_driver_standing': test_df['result_driver_standing']  \n",
    "})"
   ]
  },
  {
   "cell_type": "code",
   "execution_count": 25,
   "id": "5110e47c",
   "metadata": {},
   "outputs": [],
   "source": [
    "submission['position'] = submission['position'].round().astype(int)\n",
    "submission['position'] = submission['position'].clip(1, 20)\n",
    "submission['result_driver_standing'] = submission['result_driver_standing'].astype(int)"
   ]
  },
  {
   "cell_type": "code",
   "execution_count": 26,
   "id": "4dd9bb29",
   "metadata": {},
   "outputs": [
    {
     "name": "stdout",
     "output_type": "stream",
     "text": [
      "Submission file created successfully.\n"
     ]
    }
   ],
   "source": [
    "submission.to_csv('submission.csv', index=False)\n",
    "print(\"Submission file created successfully.\")"
   ]
  }
 ],
 "metadata": {
  "kernelspec": {
   "display_name": "Python 3 (ipykernel)",
   "language": "python",
   "name": "python3"
  },
  "language_info": {
   "codemirror_mode": {
    "name": "ipython",
    "version": 3
   },
   "file_extension": ".py",
   "mimetype": "text/x-python",
   "name": "python",
   "nbconvert_exporter": "python",
   "pygments_lexer": "ipython3",
   "version": "3.11.4"
  }
 },
 "nbformat": 4,
 "nbformat_minor": 5
}
