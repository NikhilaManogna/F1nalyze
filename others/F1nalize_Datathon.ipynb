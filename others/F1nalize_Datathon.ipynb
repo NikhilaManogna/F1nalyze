{
 "cells": [
  {
   "cell_type": "code",
   "execution_count": 1,
   "id": "a12bb01d-52f6-40fe-9923-c5fa4a06a71f",
   "metadata": {},
   "outputs": [],
   "source": [
    "import pandas as pd\n",
    "import numpy as np\n",
    "from sklearn.model_selection import train_test_split\n",
    "from sklearn.metrics import mean_squared_error\n",
    "import lightgbm as lgb"
   ]
  },
  {
   "cell_type": "code",
   "execution_count": 2,
   "id": "90fcfc30-dde3-45c7-888c-10ae256fdfb6",
   "metadata": {},
   "outputs": [],
   "source": [
    "dtype_spec = {\n",
    "    'number': str,\n",
    "    'grid': 'float64',\n",
    "    'position_x': 'float64',\n",
    "    'positionOrder': 'float64',\n",
    "    'time_x': str,\n",
    "    'timetaken_in_millisec': 'float64',\n",
    "    'fastestLapTime': str,\n",
    "    'max_speed': 'float64',\n",
    "    'url_x': str,\n",
    "    'url_y': str,\n",
    "    'url': str,\n",
    "}"
   ]
  },
  {
   "cell_type": "code",
   "execution_count": 3,
   "id": "a0fc17b7-b766-43b9-bb43-29ba258b6467",
   "metadata": {},
   "outputs": [],
   "source": [
    "na_values = ['\\\\N', 'null', 'None', '']"
   ]
  },
  {
   "cell_type": "code",
   "execution_count": 4,
   "id": "2ea5cdca-8816-40a7-bdcc-a2007f0c12d3",
   "metadata": {},
   "outputs": [],
   "source": [
    "train_df = pd.read_csv('train.csv', dtype=dtype_spec, na_values=na_values, low_memory=False)\n",
    "test_df = pd.read_csv('test.csv', dtype=dtype_spec, na_values=na_values, low_memory=False)"
   ]
  },
  {
   "cell_type": "code",
   "execution_count": 5,
   "id": "fd88af81-f516-4849-b12e-93253b662b30",
   "metadata": {},
   "outputs": [],
   "source": [
    "def time_to_seconds(time_str):\n",
    "    if pd.isna(time_str):\n",
    "        return np.nan\n",
    "    parts = time_str.split(':')\n",
    "    if len(parts) == 3:\n",
    "        return int(parts[0]) * 3600 + int(parts[1]) * 60 + float(parts[2])\n",
    "    elif len(parts) == 2:\n",
    "        return int(parts[0]) * 60 + float(parts[1])\n",
    "    else:\n",
    "        return float(parts[0])"
   ]
  },
  {
   "cell_type": "code",
   "execution_count": 6,
   "id": "a42e9214-1def-4c41-bb45-e9c82ec0aae9",
   "metadata": {},
   "outputs": [],
   "source": [
    "train_df['time_x'] = train_df['time_x'].apply(time_to_seconds)\n",
    "train_df['fastestLapTime'] = train_df['fastestLapTime'].apply(time_to_seconds)\n",
    "test_df['time_x'] = test_df['time_x'].apply(time_to_seconds)\n",
    "test_df['fastestLapTime'] = test_df['fastestLapTime'].apply(time_to_seconds)"
   ]
  },
  {
   "cell_type": "code",
   "execution_count": 7,
   "id": "c344b4b6-36a2-4921-91b4-199efbacfdb4",
   "metadata": {},
   "outputs": [
    {
     "name": "stderr",
     "output_type": "stream",
     "text": [
      "C:\\Users\\Lenovo\\AppData\\Local\\Temp\\ipykernel_5252\\1425791398.py:1: FutureWarning: DataFrame.fillna with 'method' is deprecated and will raise in a future version. Use obj.ffill() or obj.bfill() instead.\n",
      "  train_df.fillna(method='ffill', inplace=True)\n",
      "C:\\Users\\Lenovo\\AppData\\Local\\Temp\\ipykernel_5252\\1425791398.py:2: FutureWarning: DataFrame.fillna with 'method' is deprecated and will raise in a future version. Use obj.ffill() or obj.bfill() instead.\n",
      "  test_df.fillna(method='ffill', inplace=True)\n"
     ]
    }
   ],
   "source": [
    "train_df.fillna(method='ffill', inplace=True)\n",
    "test_df.fillna(method='ffill', inplace=True)"
   ]
  },
  {
   "cell_type": "code",
   "execution_count": 8,
   "id": "90e79294-5727-492c-a5a5-68d9edb47bfa",
   "metadata": {},
   "outputs": [],
   "source": [
    "categorical_cols = ['driverRef', 'constructorRef', 'grand_prix', 'status']\n",
    "for col in categorical_cols:\n",
    "    train_df[col], _ = pd.factorize(train_df[col])\n",
    "    test_df[col] = pd.Categorical(test_df[col], categories=_).codes"
   ]
  },
  {
   "cell_type": "code",
   "execution_count": 9,
   "id": "0ca4da5b-a790-4995-857c-8f36e7e9e095",
   "metadata": {},
   "outputs": [
    {
     "name": "stderr",
     "output_type": "stream",
     "text": [
      "C:\\Users\\Lenovo\\AppData\\Local\\Temp\\ipykernel_5252\\2945147685.py:2: UserWarning: Could not infer format, so each element will be parsed individually, falling back to `dateutil`. To ensure parsing is consistent and as-expected, please specify a format.\n",
      "  test_df['age'] = pd.to_datetime(test_df['date']).dt.year - pd.to_datetime(test_df['dob']).dt.year\n",
      "C:\\Users\\Lenovo\\AppData\\Local\\Temp\\ipykernel_5252\\2945147685.py:2: UserWarning: Could not infer format, so each element will be parsed individually, falling back to `dateutil`. To ensure parsing is consistent and as-expected, please specify a format.\n",
      "  test_df['age'] = pd.to_datetime(test_df['date']).dt.year - pd.to_datetime(test_df['dob']).dt.year\n"
     ]
    }
   ],
   "source": [
    "train_df['age'] = pd.to_datetime(train_df['date']).dt.year - pd.to_datetime(train_df['dob']).dt.year\n",
    "test_df['age'] = pd.to_datetime(test_df['date']).dt.year - pd.to_datetime(test_df['dob']).dt.year"
   ]
  },
  {
   "cell_type": "code",
   "execution_count": 10,
   "id": "2b62e236-2d07-48d7-a9d5-9f7964f27d8c",
   "metadata": {},
   "outputs": [],
   "source": [
    "features = [\n",
    "    'grid', 'points', 'laps', 'time_x', 'timetaken_in_millisec', \n",
    "    'fastestLap', 'rank', 'fastestLapTime', 'max_speed', 'age'\n",
    "] + categorical_cols"
   ]
  },
  {
   "cell_type": "code",
   "execution_count": 11,
   "id": "8fe50f2b-2f5b-4941-b83d-14098eef7663",
   "metadata": {},
   "outputs": [],
   "source": [
    "X = train_df[features]\n",
    "y = train_df['position']"
   ]
  },
  {
   "cell_type": "code",
   "execution_count": 12,
   "id": "9f9f6cad-dce4-466c-bba3-19c6529f9928",
   "metadata": {},
   "outputs": [],
   "source": [
    "X_train, X_valid, y_train, y_valid = train_test_split(X, y, test_size=0.2, random_state=42)"
   ]
  },
  {
   "cell_type": "code",
   "execution_count": 13,
   "id": "267cb6e4-0b33-4f9a-bb76-8b0d82fbd677",
   "metadata": {},
   "outputs": [],
   "source": [
    "train_data = lgb.Dataset(X_train, label=y_train)\n",
    "valid_data = lgb.Dataset(X_valid, label=y_valid, reference=train_data)"
   ]
  },
  {
   "cell_type": "code",
   "execution_count": 14,
   "id": "d4337cc2-bc3f-40bd-baaf-1d8bd8c027f1",
   "metadata": {},
   "outputs": [],
   "source": [
    "params = {\n",
    "    'objective': 'regression',\n",
    "    'metric': 'rmse',\n",
    "    'verbosity': -1,\n",
    "    'seed': 42,\n",
    "    'boosting_type': 'gbdt',\n",
    "    'learning_rate': 0.01,\n",
    "    'num_leaves': 31,\n",
    "    'feature_fraction': 0.9,\n",
    "    'bagging_fraction': 0.8,\n",
    "    'bagging_freq': 5\n",
    "}"
   ]
  },
  {
   "cell_type": "code",
   "execution_count": 15,
   "id": "91032fff-8963-4762-9dd3-f3ee4603b5f9",
   "metadata": {},
   "outputs": [
    {
     "name": "stderr",
     "output_type": "stream",
     "text": [
      "C:\\Users\\Lenovo\\anaconda3\\Lib\\site-packages\\sklearn\\model_selection\\_split.py:700: UserWarning: The least populated class in y has only 1 members, which is less than n_splits=5.\n",
      "  warnings.warn(\n"
     ]
    },
    {
     "name": "stdout",
     "output_type": "stream",
     "text": [
      "Training until validation scores don't improve for 100 rounds\n",
      "[100]\tcv_agg's valid rmse: 8.44286 + 0.00472558\n",
      "[200]\tcv_agg's valid rmse: 8.09301 + 0.0052032\n",
      "[300]\tcv_agg's valid rmse: 7.91895 + 0.00716199\n",
      "[400]\tcv_agg's valid rmse: 7.81046 + 0.00801938\n",
      "[500]\tcv_agg's valid rmse: 7.74085 + 0.00847994\n",
      "[600]\tcv_agg's valid rmse: 7.69578 + 0.0103916\n",
      "[700]\tcv_agg's valid rmse: 7.65948 + 0.0107798\n",
      "[800]\tcv_agg's valid rmse: 7.62912 + 0.00982691\n",
      "[900]\tcv_agg's valid rmse: 7.60236 + 0.0102815\n",
      "[1000]\tcv_agg's valid rmse: 7.57883 + 0.0106389\n",
      "Did not meet early stopping. Best iteration is:\n",
      "[1000]\tcv_agg's valid rmse: 7.57883 + 0.0106389\n",
      "Best number of boosting rounds: 1000\n",
      "[100]\tvalid_0's rmse: 8.44978\n",
      "[200]\tvalid_0's rmse: 8.09456\n",
      "[300]\tvalid_0's rmse: 7.92091\n",
      "[400]\tvalid_0's rmse: 7.8091\n",
      "[500]\tvalid_0's rmse: 7.73586\n",
      "[600]\tvalid_0's rmse: 7.68954\n",
      "[700]\tvalid_0's rmse: 7.65606\n",
      "[800]\tvalid_0's rmse: 7.62274\n",
      "[900]\tvalid_0's rmse: 7.59661\n",
      "[1000]\tvalid_0's rmse: 7.57112\n"
     ]
    }
   ],
   "source": [
    "from lightgbm import early_stopping\n",
    "\n",
    "cv_results = lgb.cv(\n",
    "    params,\n",
    "    train_data,\n",
    "    num_boost_round=1000,\n",
    "    nfold=5,\n",
    "    metrics='rmse',\n",
    "    callbacks=[\n",
    "        early_stopping(stopping_rounds=100, verbose=True),\n",
    "        lgb.log_evaluation(period=100)\n",
    "    ],\n",
    "    seed=42\n",
    ")\n",
    "\n",
    "if 'valid rmse-mean' in cv_results:\n",
    "    best_num_boost_round = len(cv_results['valid rmse-mean'])\n",
    "else:\n",
    "    best_num_boost_round = len(next(iter(cv_results.values())))\n",
    "\n",
    "print(f'Best number of boosting rounds: {best_num_boost_round}')\n",
    "\n",
    "final_model = lgb.train(\n",
    "    params,\n",
    "    train_data,\n",
    "    num_boost_round=best_num_boost_round,\n",
    "    valid_sets=[valid_data],\n",
    "    callbacks=[lgb.log_evaluation(period=100)]\n",
    ")"
   ]
  },
  {
   "cell_type": "code",
   "execution_count": 17,
   "id": "ef0fd5c9-17f8-4296-9f4f-a0a68da43818",
   "metadata": {},
   "outputs": [
    {
     "name": "stdout",
     "output_type": "stream",
     "text": [
      "Validation RMSE: 7.571120134222269\n",
      "Submission file created successfully.\n"
     ]
    }
   ],
   "source": [
    "y_pred = final_model.predict(X_valid)\n",
    "rmse = mean_squared_error(y_valid, y_pred, squared=False)\n",
    "print(f'Validation RMSE: {rmse}')\n",
    "\n",
    "X_test = test_df[features]\n",
    "test_predictions = final_model.predict(X_test)\n",
    "\n",
    "submission = pd.DataFrame({\n",
    "    'position': test_predictions,\n",
    "    'result_driver_standing': test_df['result_driver_standing'] \n",
    "})\n",
    "\n",
    "submission['position'] = submission['position'].round().astype(int)\n",
    "\n",
    "submission['position'] = submission['position'].clip(1, 20)\n",
    "\n",
    "submission['result_driver_standing'] = submission['result_driver_standing'].astype(int)\n",
    "\n",
    "submission.to_csv('submission.csv', index=False)\n",
    "\n",
    "print(\"Submission file created successfully.\")"
   ]
  },
  {
   "cell_type": "code",
   "execution_count": 18,
   "id": "83da70fb-c125-407e-aeb8-18a85fd7e642",
   "metadata": {},
   "outputs": [],
   "source": [
    "from sklearn.impute import SimpleImputer\n",
    "from sklearn.ensemble import RandomForestRegressor\n",
    "from sklearn.tree import DecisionTreeRegressor\n",
    "import xgboost as xgb\n",
    "from sklearn.ensemble import AdaBoostRegressor"
   ]
  },
  {
   "cell_type": "code",
   "execution_count": 19,
   "id": "9e3eab08-39f3-44ea-a6a2-672ad31d427a",
   "metadata": {},
   "outputs": [],
   "source": [
    "# Initialize the models\n",
    "rand_model = RandomForestRegressor()\n",
    "tree_model = DecisionTreeRegressor()\n",
    "xgb_model = xgb.XGBRegressor()\n",
    "adb_model = AdaBoostRegressor()"
   ]
  },
  {
   "cell_type": "code",
   "execution_count": 20,
   "id": "1c495ac9-7d5d-4e79-8a1b-18b99f7a21c8",
   "metadata": {},
   "outputs": [],
   "source": [
    "# Create an imputer object with a strategy to fill missing values\n",
    "imputer = SimpleImputer(strategy='mean')"
   ]
  },
  {
   "cell_type": "code",
   "execution_count": 21,
   "id": "c7c00dc1-512d-4fcd-8a30-21fa73cfe935",
   "metadata": {},
   "outputs": [],
   "source": [
    "# Fit the imputer on the training data\n",
    "X_train_imputed = imputer.fit_transform(X_train)\n",
    "X_valid_imputed = imputer.transform(X_valid)"
   ]
  },
  {
   "cell_type": "code",
   "execution_count": 22,
   "id": "fcbfcd6b-1d13-4622-b2c0-f9ec8938939d",
   "metadata": {},
   "outputs": [
    {
     "data": {
      "text/html": [
       "<style>#sk-container-id-1 {color: black;background-color: white;}#sk-container-id-1 pre{padding: 0;}#sk-container-id-1 div.sk-toggleable {background-color: white;}#sk-container-id-1 label.sk-toggleable__label {cursor: pointer;display: block;width: 100%;margin-bottom: 0;padding: 0.3em;box-sizing: border-box;text-align: center;}#sk-container-id-1 label.sk-toggleable__label-arrow:before {content: \"▸\";float: left;margin-right: 0.25em;color: #696969;}#sk-container-id-1 label.sk-toggleable__label-arrow:hover:before {color: black;}#sk-container-id-1 div.sk-estimator:hover label.sk-toggleable__label-arrow:before {color: black;}#sk-container-id-1 div.sk-toggleable__content {max-height: 0;max-width: 0;overflow: hidden;text-align: left;background-color: #f0f8ff;}#sk-container-id-1 div.sk-toggleable__content pre {margin: 0.2em;color: black;border-radius: 0.25em;background-color: #f0f8ff;}#sk-container-id-1 input.sk-toggleable__control:checked~div.sk-toggleable__content {max-height: 200px;max-width: 100%;overflow: auto;}#sk-container-id-1 input.sk-toggleable__control:checked~label.sk-toggleable__label-arrow:before {content: \"▾\";}#sk-container-id-1 div.sk-estimator input.sk-toggleable__control:checked~label.sk-toggleable__label {background-color: #d4ebff;}#sk-container-id-1 div.sk-label input.sk-toggleable__control:checked~label.sk-toggleable__label {background-color: #d4ebff;}#sk-container-id-1 input.sk-hidden--visually {border: 0;clip: rect(1px 1px 1px 1px);clip: rect(1px, 1px, 1px, 1px);height: 1px;margin: -1px;overflow: hidden;padding: 0;position: absolute;width: 1px;}#sk-container-id-1 div.sk-estimator {font-family: monospace;background-color: #f0f8ff;border: 1px dotted black;border-radius: 0.25em;box-sizing: border-box;margin-bottom: 0.5em;}#sk-container-id-1 div.sk-estimator:hover {background-color: #d4ebff;}#sk-container-id-1 div.sk-parallel-item::after {content: \"\";width: 100%;border-bottom: 1px solid gray;flex-grow: 1;}#sk-container-id-1 div.sk-label:hover label.sk-toggleable__label {background-color: #d4ebff;}#sk-container-id-1 div.sk-serial::before {content: \"\";position: absolute;border-left: 1px solid gray;box-sizing: border-box;top: 0;bottom: 0;left: 50%;z-index: 0;}#sk-container-id-1 div.sk-serial {display: flex;flex-direction: column;align-items: center;background-color: white;padding-right: 0.2em;padding-left: 0.2em;position: relative;}#sk-container-id-1 div.sk-item {position: relative;z-index: 1;}#sk-container-id-1 div.sk-parallel {display: flex;align-items: stretch;justify-content: center;background-color: white;position: relative;}#sk-container-id-1 div.sk-item::before, #sk-container-id-1 div.sk-parallel-item::before {content: \"\";position: absolute;border-left: 1px solid gray;box-sizing: border-box;top: 0;bottom: 0;left: 50%;z-index: -1;}#sk-container-id-1 div.sk-parallel-item {display: flex;flex-direction: column;z-index: 1;position: relative;background-color: white;}#sk-container-id-1 div.sk-parallel-item:first-child::after {align-self: flex-end;width: 50%;}#sk-container-id-1 div.sk-parallel-item:last-child::after {align-self: flex-start;width: 50%;}#sk-container-id-1 div.sk-parallel-item:only-child::after {width: 0;}#sk-container-id-1 div.sk-dashed-wrapped {border: 1px dashed gray;margin: 0 0.4em 0.5em 0.4em;box-sizing: border-box;padding-bottom: 0.4em;background-color: white;}#sk-container-id-1 div.sk-label label {font-family: monospace;font-weight: bold;display: inline-block;line-height: 1.2em;}#sk-container-id-1 div.sk-label-container {text-align: center;}#sk-container-id-1 div.sk-container {/* jupyter's `normalize.less` sets `[hidden] { display: none; }` but bootstrap.min.css set `[hidden] { display: none !important; }` so we also need the `!important` here to be able to override the default hidden behavior on the sphinx rendered scikit-learn.org. See: https://github.com/scikit-learn/scikit-learn/issues/21755 */display: inline-block !important;position: relative;}#sk-container-id-1 div.sk-text-repr-fallback {display: none;}</style><div id=\"sk-container-id-1\" class=\"sk-top-container\"><div class=\"sk-text-repr-fallback\"><pre>AdaBoostRegressor()</pre><b>In a Jupyter environment, please rerun this cell to show the HTML representation or trust the notebook. <br />On GitHub, the HTML representation is unable to render, please try loading this page with nbviewer.org.</b></div><div class=\"sk-container\" hidden><div class=\"sk-item\"><div class=\"sk-estimator sk-toggleable\"><input class=\"sk-toggleable__control sk-hidden--visually\" id=\"sk-estimator-id-1\" type=\"checkbox\" checked><label for=\"sk-estimator-id-1\" class=\"sk-toggleable__label sk-toggleable__label-arrow\">AdaBoostRegressor</label><div class=\"sk-toggleable__content\"><pre>AdaBoostRegressor()</pre></div></div></div></div></div>"
      ],
      "text/plain": [
       "AdaBoostRegressor()"
      ]
     },
     "execution_count": 22,
     "metadata": {},
     "output_type": "execute_result"
    }
   ],
   "source": [
    "# Fit the models\n",
    "rand_model.fit(X_train_imputed, y_train)\n",
    "tree_model.fit(X_train_imputed, y_train)\n",
    "xgb_model.fit(X_train_imputed, y_train)\n",
    "adb_model.fit(X_train_imputed, y_train)"
   ]
  },
  {
   "cell_type": "code",
   "execution_count": 23,
   "id": "42203987-d7d9-4aa6-b1f4-c4ea0b5e9597",
   "metadata": {},
   "outputs": [],
   "source": [
    "# Predict and evaluate the models\n",
    "y_pred_rand = rand_model.predict(X_valid_imputed)\n",
    "y_pred_tree = tree_model.predict(X_valid_imputed)\n",
    "y_pred_xgb = xgb_model.predict(X_valid_imputed)\n",
    "y_pred_adb = adb_model.predict(X_valid_imputed)"
   ]
  },
  {
   "cell_type": "code",
   "execution_count": 24,
   "id": "e4a78b79-22a5-4412-8dd5-4cb3c2550f36",
   "metadata": {},
   "outputs": [
    {
     "name": "stdout",
     "output_type": "stream",
     "text": [
      "Validation RMSE (Random Forest): 7.313971880329701\n",
      "Validation RMSE (Decision Tree): 7.314245315065247\n",
      "Validation RMSE (XGBoost): 7.395562015265371\n",
      "Validation RMSE (AdaBoost): 9.949862097143258\n"
     ]
    }
   ],
   "source": [
    "# Calculate RMSE for each model\n",
    "rmse_rand = mean_squared_error(y_valid, y_pred_rand, squared=False)\n",
    "rmse_tree = mean_squared_error(y_valid, y_pred_tree, squared=False)\n",
    "rmse_xgb = mean_squared_error(y_valid, y_pred_xgb, squared=False)\n",
    "rmse_adb = mean_squared_error(y_valid, y_pred_adb, squared=False)\n",
    "\n",
    "print(f'Validation RMSE (Random Forest): {rmse_rand}')\n",
    "print(f'Validation RMSE (Decision Tree): {rmse_tree}')\n",
    "print(f'Validation RMSE (XGBoost): {rmse_xgb}')\n",
    "print(f'Validation RMSE (AdaBoost): {rmse_adb}')"
   ]
  },
  {
   "cell_type": "code",
   "execution_count": 25,
   "id": "e85e1e80-8fb5-47fb-95d3-e50296906c4e",
   "metadata": {},
   "outputs": [],
   "source": [
    "from sklearn import metrics"
   ]
  },
  {
   "cell_type": "code",
   "execution_count": 29,
   "id": "81999a77-954e-4d9f-96ff-d3413ab01285",
   "metadata": {},
   "outputs": [
    {
     "name": "stdout",
     "output_type": "stream",
     "text": [
      "Validation Accuracy within ±1 positions (Random Forest): 17.00%\n",
      "Validation Accuracy within ±1 positions (Decision Tree): 17.03%\n",
      "Validation Accuracy within ±1 positions (XGBoost): 16.58%\n",
      "Validation Accuracy within ±1 positions (AdaBoost): 11.37%\n"
     ]
    }
   ],
   "source": [
    "accuracy_rand = compute_accuracy(y_valid, y_pred_rand, acceptable_deviation)\n",
    "accuracy_tree = compute_accuracy(y_valid, y_pred_tree, acceptable_deviation)\n",
    "accuracy_xgb = compute_accuracy(y_valid, y_pred_xgb, acceptable_deviation)\n",
    "accuracy_adb = compute_accuracy(y_valid, y_pred_adb, acceptable_deviation)\n",
    "\n",
    "print(f'Validation Accuracy within ±{acceptable_deviation} positions (Random Forest): {accuracy_rand:.2f}%')\n",
    "print(f'Validation Accuracy within ±{acceptable_deviation} positions (Decision Tree): {accuracy_tree:.2f}%')\n",
    "print(f'Validation Accuracy within ±{acceptable_deviation} positions (XGBoost): {accuracy_xgb:.2f}%')\n",
    "print(f'Validation Accuracy within ±{acceptable_deviation} positions (AdaBoost): {accuracy_adb:.2f}%')\n"
   ]
  },
  {
   "cell_type": "code",
   "execution_count": 31,
   "id": "88811345-092a-4790-b06f-72269a7331cc",
   "metadata": {},
   "outputs": [],
   "source": [
    "from sklearn.preprocessing import StandardScaler"
   ]
  },
  {
   "cell_type": "code",
   "execution_count": 33,
   "id": "22cc314d-9d25-4494-97ed-6f84ff040068",
   "metadata": {},
   "outputs": [],
   "source": [
    "from sklearn.model_selection import GridSearchCV"
   ]
  },
  {
   "cell_type": "code",
   "execution_count": 39,
   "id": "5735d8a0-0a19-4c7e-ad9b-98398de7fa7d",
   "metadata": {},
   "outputs": [
    {
     "name": "stdout",
     "output_type": "stream",
     "text": [
      "Requirement already satisfied: optuna in c:\\users\\lenovo\\anaconda3\\lib\\site-packages (3.6.1)\n",
      "Requirement already satisfied: alembic>=1.5.0 in c:\\users\\lenovo\\anaconda3\\lib\\site-packages (from optuna) (1.13.2)\n",
      "Requirement already satisfied: colorlog in c:\\users\\lenovo\\anaconda3\\lib\\site-packages (from optuna) (6.8.2)\n",
      "Requirement already satisfied: numpy in c:\\users\\lenovo\\anaconda3\\lib\\site-packages (from optuna) (1.26.4)\n",
      "Requirement already satisfied: packaging>=20.0 in c:\\users\\lenovo\\anaconda3\\lib\\site-packages (from optuna) (23.1)\n",
      "Requirement already satisfied: sqlalchemy>=1.3.0 in c:\\users\\lenovo\\anaconda3\\lib\\site-packages (from optuna) (2.0.25)\n",
      "Requirement already satisfied: tqdm in c:\\users\\lenovo\\anaconda3\\lib\\site-packages (from optuna) (4.65.0)\n",
      "Requirement already satisfied: PyYAML in c:\\users\\lenovo\\anaconda3\\lib\\site-packages (from optuna) (6.0.1)\n",
      "Requirement already satisfied: Mako in c:\\users\\lenovo\\anaconda3\\lib\\site-packages (from alembic>=1.5.0->optuna) (1.3.5)\n",
      "Requirement already satisfied: typing-extensions>=4 in c:\\users\\lenovo\\anaconda3\\lib\\site-packages (from alembic>=1.5.0->optuna) (4.9.0)\n",
      "Requirement already satisfied: greenlet!=0.4.17 in c:\\users\\lenovo\\anaconda3\\lib\\site-packages (from sqlalchemy>=1.3.0->optuna) (3.0.1)\n",
      "Requirement already satisfied: colorama in c:\\users\\lenovo\\anaconda3\\lib\\site-packages (from colorlog->optuna) (0.4.6)\n",
      "Requirement already satisfied: MarkupSafe>=0.9.2 in c:\\users\\lenovo\\anaconda3\\lib\\site-packages (from Mako->alembic>=1.5.0->optuna) (2.1.3)\n"
     ]
    }
   ],
   "source": [
    "!pip install optuna"
   ]
  },
  {
   "cell_type": "code",
   "execution_count": 41,
   "id": "378b6fc4-e5da-4f4a-b3b8-ab16c784ab5a",
   "metadata": {},
   "outputs": [],
   "source": [
    "import optuna"
   ]
  },
  {
   "cell_type": "code",
   "execution_count": 43,
   "id": "84811149-8f40-4bff-b39e-7280ee847e41",
   "metadata": {},
   "outputs": [
    {
     "name": "stderr",
     "output_type": "stream",
     "text": [
      "C:\\Users\\Lenovo\\anaconda3\\Lib\\site-packages\\sklearn\\base.py:432: UserWarning: X has feature names, but StandardScaler was fitted without feature names\n",
      "  warnings.warn(\n",
      "[I 2024-06-29 01:16:05,303] A new study created in memory with name: no-name-7b82d3de-bb9e-4e7f-9056-9a48a74275b8\n"
     ]
    },
    {
     "name": "stdout",
     "output_type": "stream",
     "text": [
      "Training until validation scores don't improve for 100 rounds\n",
      "[100]\tvalid_0's rmse: 7.65291\n",
      "[200]\tvalid_0's rmse: 7.51839\n",
      "[300]\tvalid_0's rmse: 7.45195\n",
      "[400]\tvalid_0's rmse: 7.42233\n",
      "[500]\tvalid_0's rmse: 7.40894\n",
      "[600]\tvalid_0's rmse: 7.39962\n",
      "[700]\tvalid_0's rmse: 7.39761\n",
      "[800]\tvalid_0's rmse: 7.39705\n",
      "[900]\tvalid_0's rmse: 7.3978\n",
      "Early stopping, best iteration is:\n",
      "[822]\tvalid_0's rmse: 7.39621\n"
     ]
    },
    {
     "name": "stderr",
     "output_type": "stream",
     "text": [
      "[I 2024-06-29 01:16:45,990] Trial 0 finished with value: 7.39620660161211 and parameters: {'learning_rate': 0.0597217211555161, 'num_leaves': 38, 'feature_fraction': 0.8736476579531497, 'bagging_fraction': 0.8912787916342938, 'bagging_freq': 5}. Best is trial 0 with value: 7.39620660161211.\n"
     ]
    },
    {
     "name": "stdout",
     "output_type": "stream",
     "text": [
      "Training until validation scores don't improve for 100 rounds\n",
      "[100]\tvalid_0's rmse: 7.84762\n",
      "[200]\tvalid_0's rmse: 7.55962\n",
      "[300]\tvalid_0's rmse: 7.48628\n",
      "[400]\tvalid_0's rmse: 7.44816\n",
      "[500]\tvalid_0's rmse: 7.42881\n",
      "[600]\tvalid_0's rmse: 7.41251\n",
      "[700]\tvalid_0's rmse: 7.40092\n",
      "[800]\tvalid_0's rmse: 7.39285\n",
      "[900]\tvalid_0's rmse: 7.39076\n",
      "[1000]\tvalid_0's rmse: 7.38901\n",
      "Did not meet early stopping. Best iteration is:\n",
      "[980]\tvalid_0's rmse: 7.38894\n"
     ]
    },
    {
     "name": "stderr",
     "output_type": "stream",
     "text": [
      "[I 2024-06-29 01:18:05,968] Trial 1 finished with value: 7.388939842762505 and parameters: {'learning_rate': 0.01763453624838673, 'num_leaves': 90, 'feature_fraction': 0.9816623731942931, 'bagging_fraction': 0.8986541043398814, 'bagging_freq': 5}. Best is trial 1 with value: 7.388939842762505.\n"
     ]
    },
    {
     "name": "stdout",
     "output_type": "stream",
     "text": [
      "Training until validation scores don't improve for 100 rounds\n",
      "[100]\tvalid_0's rmse: 7.77985\n",
      "[200]\tvalid_0's rmse: 7.61045\n",
      "[300]\tvalid_0's rmse: 7.52966\n",
      "[400]\tvalid_0's rmse: 7.47998\n",
      "[500]\tvalid_0's rmse: 7.44855\n",
      "[600]\tvalid_0's rmse: 7.42533\n",
      "[700]\tvalid_0's rmse: 7.41057\n",
      "[800]\tvalid_0's rmse: 7.39935\n",
      "[900]\tvalid_0's rmse: 7.39128\n",
      "[1000]\tvalid_0's rmse: 7.38626\n",
      "Did not meet early stopping. Best iteration is:\n",
      "[1000]\tvalid_0's rmse: 7.38626\n"
     ]
    },
    {
     "name": "stderr",
     "output_type": "stream",
     "text": [
      "[I 2024-06-29 01:19:17,476] Trial 2 finished with value: 7.386255261152265 and parameters: {'learning_rate': 0.03454246810533098, 'num_leaves': 42, 'feature_fraction': 0.9088724634051651, 'bagging_fraction': 0.9915773646309484, 'bagging_freq': 4}. Best is trial 2 with value: 7.386255261152265.\n"
     ]
    },
    {
     "name": "stdout",
     "output_type": "stream",
     "text": [
      "Training until validation scores don't improve for 100 rounds\n",
      "[100]\tvalid_0's rmse: 8.18958\n",
      "[200]\tvalid_0's rmse: 7.81628\n",
      "[300]\tvalid_0's rmse: 7.66254\n",
      "[400]\tvalid_0's rmse: 7.59562\n",
      "[500]\tvalid_0's rmse: 7.55852\n",
      "[600]\tvalid_0's rmse: 7.52754\n",
      "[700]\tvalid_0's rmse: 7.50149\n",
      "[800]\tvalid_0's rmse: 7.47873\n",
      "[900]\tvalid_0's rmse: 7.46035\n",
      "[1000]\tvalid_0's rmse: 7.44655\n",
      "Did not meet early stopping. Best iteration is:\n",
      "[1000]\tvalid_0's rmse: 7.44655\n"
     ]
    },
    {
     "name": "stderr",
     "output_type": "stream",
     "text": [
      "[I 2024-06-29 01:20:23,991] Trial 3 finished with value: 7.446545324166264 and parameters: {'learning_rate': 0.01230093696586767, 'num_leaves': 56, 'feature_fraction': 0.8514181222671509, 'bagging_fraction': 0.9755788858020719, 'bagging_freq': 1}. Best is trial 2 with value: 7.386255261152265.\n"
     ]
    },
    {
     "name": "stdout",
     "output_type": "stream",
     "text": [
      "Training until validation scores don't improve for 100 rounds\n",
      "[100]\tvalid_0's rmse: 7.69974\n",
      "[200]\tvalid_0's rmse: 7.54563\n",
      "[300]\tvalid_0's rmse: 7.47898\n",
      "[400]\tvalid_0's rmse: 7.44596\n",
      "[500]\tvalid_0's rmse: 7.42263\n",
      "[600]\tvalid_0's rmse: 7.4042\n",
      "[700]\tvalid_0's rmse: 7.39773\n",
      "[800]\tvalid_0's rmse: 7.39406\n",
      "[900]\tvalid_0's rmse: 7.38828\n",
      "[1000]\tvalid_0's rmse: 7.38715\n",
      "Did not meet early stopping. Best iteration is:\n",
      "[948]\tvalid_0's rmse: 7.38517\n"
     ]
    },
    {
     "name": "stderr",
     "output_type": "stream",
     "text": [
      "[I 2024-06-29 01:21:27,192] Trial 4 finished with value: 7.385171403190093 and parameters: {'learning_rate': 0.033580729761321725, 'num_leaves': 56, 'feature_fraction': 0.996510617015941, 'bagging_fraction': 0.928083358701578, 'bagging_freq': 10}. Best is trial 4 with value: 7.385171403190093.\n"
     ]
    },
    {
     "name": "stdout",
     "output_type": "stream",
     "text": [
      "Training until validation scores don't improve for 100 rounds\n",
      "[100]\tvalid_0's rmse: 7.71077\n",
      "[200]\tvalid_0's rmse: 7.57337\n",
      "[300]\tvalid_0's rmse: 7.5043\n",
      "[400]\tvalid_0's rmse: 7.45514\n",
      "[500]\tvalid_0's rmse: 7.43373\n",
      "[600]\tvalid_0's rmse: 7.42072\n",
      "[700]\tvalid_0's rmse: 7.41152\n",
      "[800]\tvalid_0's rmse: 7.40955\n",
      "[900]\tvalid_0's rmse: 7.40934\n",
      "Early stopping, best iteration is:\n",
      "[820]\tvalid_0's rmse: 7.40812\n"
     ]
    },
    {
     "name": "stderr",
     "output_type": "stream",
     "text": [
      "[I 2024-06-29 01:22:12,293] Trial 5 finished with value: 7.408117278856206 and parameters: {'learning_rate': 0.051493779750945726, 'num_leaves': 36, 'feature_fraction': 0.9068244120431425, 'bagging_fraction': 0.8302083991638234, 'bagging_freq': 4}. Best is trial 4 with value: 7.385171403190093.\n"
     ]
    },
    {
     "name": "stdout",
     "output_type": "stream",
     "text": [
      "Training until validation scores don't improve for 100 rounds\n",
      "[100]\tvalid_0's rmse: 7.47481\n",
      "[200]\tvalid_0's rmse: 7.40956\n",
      "[300]\tvalid_0's rmse: 7.40257\n",
      "Early stopping, best iteration is:\n",
      "[248]\tvalid_0's rmse: 7.40116\n"
     ]
    },
    {
     "name": "stderr",
     "output_type": "stream",
     "text": [
      "[I 2024-06-29 01:22:33,604] Trial 6 finished with value: 7.401156439313183 and parameters: {'learning_rate': 0.07099669422380556, 'num_leaves': 84, 'feature_fraction': 0.7569041219054111, 'bagging_fraction': 0.803480815777288, 'bagging_freq': 4}. Best is trial 4 with value: 7.385171403190093.\n"
     ]
    },
    {
     "name": "stdout",
     "output_type": "stream",
     "text": [
      "Training until validation scores don't improve for 100 rounds\n",
      "[100]\tvalid_0's rmse: 7.91535\n",
      "[200]\tvalid_0's rmse: 7.73898\n",
      "[300]\tvalid_0's rmse: 7.63937\n",
      "[400]\tvalid_0's rmse: 7.57581\n",
      "[500]\tvalid_0's rmse: 7.5277\n",
      "[600]\tvalid_0's rmse: 7.49347\n",
      "[700]\tvalid_0's rmse: 7.47199\n",
      "[800]\tvalid_0's rmse: 7.45267\n",
      "[900]\tvalid_0's rmse: 7.44151\n",
      "[1000]\tvalid_0's rmse: 7.43182\n",
      "Did not meet early stopping. Best iteration is:\n",
      "[1000]\tvalid_0's rmse: 7.43182\n"
     ]
    },
    {
     "name": "stderr",
     "output_type": "stream",
     "text": [
      "[I 2024-06-29 01:23:20,773] Trial 7 finished with value: 7.43181852175245 and parameters: {'learning_rate': 0.042337199195333367, 'num_leaves': 22, 'feature_fraction': 0.9736736945728879, 'bagging_fraction': 0.8663488968580109, 'bagging_freq': 2}. Best is trial 4 with value: 7.385171403190093.\n"
     ]
    },
    {
     "name": "stdout",
     "output_type": "stream",
     "text": [
      "Training until validation scores don't improve for 100 rounds\n",
      "[100]\tvalid_0's rmse: 7.47071\n",
      "[200]\tvalid_0's rmse: 7.402\n",
      "[300]\tvalid_0's rmse: 7.39387\n",
      "[400]\tvalid_0's rmse: 7.39553\n",
      "Early stopping, best iteration is:\n",
      "[318]\tvalid_0's rmse: 7.3916\n"
     ]
    },
    {
     "name": "stderr",
     "output_type": "stream",
     "text": [
      "[I 2024-06-29 01:23:49,073] Trial 8 finished with value: 7.391598144039277 and parameters: {'learning_rate': 0.06624631167926337, 'num_leaves': 86, 'feature_fraction': 0.9776283944184022, 'bagging_fraction': 0.9111148014974881, 'bagging_freq': 10}. Best is trial 4 with value: 7.385171403190093.\n"
     ]
    },
    {
     "name": "stdout",
     "output_type": "stream",
     "text": [
      "Training until validation scores don't improve for 100 rounds\n",
      "[100]\tvalid_0's rmse: 8.06466\n",
      "[200]\tvalid_0's rmse: 7.76618\n",
      "[300]\tvalid_0's rmse: 7.64815\n",
      "[400]\tvalid_0's rmse: 7.59543\n",
      "[500]\tvalid_0's rmse: 7.55791\n",
      "[600]\tvalid_0's rmse: 7.52891\n",
      "[700]\tvalid_0's rmse: 7.50379\n",
      "[800]\tvalid_0's rmse: 7.48317\n",
      "[900]\tvalid_0's rmse: 7.46527\n",
      "[1000]\tvalid_0's rmse: 7.4531\n",
      "Did not meet early stopping. Best iteration is:\n",
      "[1000]\tvalid_0's rmse: 7.4531\n"
     ]
    },
    {
     "name": "stderr",
     "output_type": "stream",
     "text": [
      "[I 2024-06-29 01:24:53,574] Trial 9 finished with value: 7.453095518753085 and parameters: {'learning_rate': 0.017139611191592758, 'num_leaves': 44, 'feature_fraction': 0.8107275383128932, 'bagging_fraction': 0.737106423859892, 'bagging_freq': 3}. Best is trial 4 with value: 7.385171403190093.\n"
     ]
    },
    {
     "name": "stdout",
     "output_type": "stream",
     "text": [
      "Training until validation scores don't improve for 100 rounds\n",
      "[100]\tvalid_0's rmse: 7.68755\n",
      "[200]\tvalid_0's rmse: 7.51956\n",
      "[300]\tvalid_0's rmse: 7.44144\n",
      "[400]\tvalid_0's rmse: 7.39533\n",
      "[500]\tvalid_0's rmse: 7.36536\n",
      "[600]\tvalid_0's rmse: 7.34162\n",
      "[700]\tvalid_0's rmse: 7.32815\n",
      "[800]\tvalid_0's rmse: 7.31709\n",
      "[900]\tvalid_0's rmse: 7.30944\n",
      "[1000]\tvalid_0's rmse: 7.3034\n",
      "Did not meet early stopping. Best iteration is:\n",
      "[1000]\tvalid_0's rmse: 7.3034\n",
      "Validation RMSE: 7.303401791828516\n",
      "Submission file created successfully.\n"
     ]
    }
   ],
   "source": [
    "# Normalize features\n",
    "scaler = StandardScaler()\n",
    "X = scaler.fit_transform(X)\n",
    "test_df[features] = scaler.transform(test_df[features])\n",
    "\n",
    "# Split data into train and validation sets\n",
    "X_train, X_valid, y_train, y_valid = train_test_split(X, y, test_size=0.2, random_state=42)\n",
    "\n",
    "# Use a smaller subset of the data for hyperparameter tuning\n",
    "X_train_sample, _, y_train_sample, _ = train_test_split(X_train, y_train, test_size=0.8, random_state=42)\n",
    "\n",
    "# Define objective function for Optuna\n",
    "def objective(trial):\n",
    "    param = {\n",
    "        'objective': 'regression',\n",
    "        'metric': 'rmse',\n",
    "        'verbosity': -1,\n",
    "        'boosting_type': 'gbdt',\n",
    "        'learning_rate': trial.suggest_float('learning_rate', 0.01, 0.1, log=True),\n",
    "        'num_leaves': trial.suggest_int('num_leaves', 20, 100),\n",
    "        'feature_fraction': trial.suggest_float('feature_fraction', 0.7, 1.0),\n",
    "        'bagging_fraction': trial.suggest_float('bagging_fraction', 0.7, 1.0),\n",
    "        'bagging_freq': trial.suggest_int('bagging_freq', 1, 10)\n",
    "    }\n",
    "\n",
    "    train_data = lgb.Dataset(X_train_sample, label=y_train_sample)\n",
    "    valid_data = lgb.Dataset(X_valid, label=y_valid, reference=train_data)\n",
    "\n",
    "    model = lgb.train(\n",
    "        param,\n",
    "        train_data,\n",
    "        num_boost_round=1000,\n",
    "        valid_sets=[valid_data],\n",
    "        callbacks=[\n",
    "            lgb.early_stopping(stopping_rounds=100, verbose=True),\n",
    "            lgb.log_evaluation(period=100)\n",
    "        ]\n",
    "    )\n",
    "\n",
    "    y_pred = model.predict(X_valid)\n",
    "    rmse = mean_squared_error(y_valid, y_pred, squared=False)\n",
    "    return rmse\n",
    "\n",
    "# Optimize hyperparameters using Optuna\n",
    "study = optuna.create_study(direction='minimize')\n",
    "study.optimize(objective, n_trials=10)\n",
    "\n",
    "# Get best parameters\n",
    "best_params = study.best_params\n",
    "best_params['objective'] = 'regression'\n",
    "best_params['metric'] = 'rmse'\n",
    "best_params['verbosity'] = -1\n",
    "\n",
    "# Train the final model with the best parameters\n",
    "train_data = lgb.Dataset(X_train, label=y_train)\n",
    "valid_data = lgb.Dataset(X_valid, label=y_valid, reference=train_data)\n",
    "\n",
    "final_model = lgb.train(\n",
    "    best_params,\n",
    "    train_data,\n",
    "    num_boost_round=1000,\n",
    "    valid_sets=[valid_data],\n",
    "    callbacks=[\n",
    "        lgb.early_stopping(stopping_rounds=100, verbose=True),\n",
    "        lgb.log_evaluation(period=100)\n",
    "    ]\n",
    ")\n",
    "\n",
    "# Evaluate the final model on the validation set\n",
    "y_pred = final_model.predict(X_valid)\n",
    "rmse = mean_squared_error(y_valid, y_pred, squared=False)\n",
    "print(f'Validation RMSE: {rmse}')\n",
    "\n",
    "# Make predictions on the test set\n",
    "X_test = test_df[features]\n",
    "test_predictions = final_model.predict(X_test)\n",
    "\n",
    "# Create a submission DataFrame\n",
    "submission = pd.DataFrame({\n",
    "    'position': test_predictions\n",
    "    'result_driver_standing': test_df['result_driver_standing'],  # Assuming 'resultId' is the index or a column in test_df\n",
    "})\n",
    "\n",
    "# Save submission to CSV\n",
    "submission.to_csv('submission.csv', index=False)\n",
    "\n",
    "print(\"Submission file created successfully.\")"
   ]
  },
  {
   "cell_type": "code",
   "execution_count": null,
   "id": "c7d280fb-efd1-404b-a9d5-f4a969806d64",
   "metadata": {},
   "outputs": [],
   "source": []
  }
 ],
 "metadata": {
  "kernelspec": {
   "display_name": "Python 3 (ipykernel)",
   "language": "python",
   "name": "python3"
  },
  "language_info": {
   "codemirror_mode": {
    "name": "ipython",
    "version": 3
   },
   "file_extension": ".py",
   "mimetype": "text/x-python",
   "name": "python",
   "nbconvert_exporter": "python",
   "pygments_lexer": "ipython3",
   "version": "3.11.7"
  }
 },
 "nbformat": 4,
 "nbformat_minor": 5
}
